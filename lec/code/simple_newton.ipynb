{
 "cells": [
  {
   "cell_type": "code",
   "execution_count": 8,
   "metadata": {},
   "outputs": [
    {
     "data": {
      "text/plain": [
       "simple_newton (generic function with 1 method)"
      ]
     },
     "execution_count": 8,
     "metadata": {},
     "output_type": "execute_result"
    }
   ],
   "source": [
    "function simple_newton(f, df, x; atol=1e-6, maxiter=100)\n",
    "    fx = f(x)\n",
    "    dfx = df(x)\n",
    "    dx = -fx/dfx\n",
    "    for fevals = 1:maxiter\n",
    "        if abs(fx) < atol\n",
    "            return x, true\n",
    "        end\n",
    "        xnew = x+dx\n",
    "        fxnew = f(xnew)\n",
    "        if abs(fxnew) < abs(fx)\n",
    "            x   = xnew\n",
    "            fx  = fxnew\n",
    "            dfx = df(x)\n",
    "            dx  = -fx/dfx\n",
    "        else\n",
    "            # If we increase |f(x)|, try a smaller update\n",
    "            dx = dx/2;\n",
    "        end\n",
    "    end\n",
    "    return x, false\n",
    "end"
   ]
  },
  {
   "cell_type": "code",
   "execution_count": 9,
   "metadata": {},
   "outputs": [
    {
     "data": {
      "text/plain": [
       "(1.5707963267948966, true)"
      ]
     },
     "execution_count": 9,
     "metadata": {},
     "output_type": "execute_result"
    }
   ],
   "source": [
    "simple_newton(cos, x -> -sin(x), 2)"
   ]
  },
  {
   "cell_type": "code",
   "execution_count": 10,
   "metadata": {},
   "outputs": [
    {
     "data": {
      "text/plain": [
       "1.5707963267948966"
      ]
     },
     "execution_count": 10,
     "metadata": {},
     "output_type": "execute_result"
    }
   ],
   "source": [
    "π/2"
   ]
  },
  {
   "cell_type": "code",
   "execution_count": null,
   "metadata": {},
   "outputs": [],
   "source": []
  }
 ],
 "metadata": {
  "kernelspec": {
   "display_name": "Julia 1.3.1",
   "language": "julia",
   "name": "julia-1.3"
  },
  "language_info": {
   "file_extension": ".jl",
   "mimetype": "application/julia",
   "name": "julia",
   "version": "1.3.1"
  }
 },
 "nbformat": 4,
 "nbformat_minor": 2
}
