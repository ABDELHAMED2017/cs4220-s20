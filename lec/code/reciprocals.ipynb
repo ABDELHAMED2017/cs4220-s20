{
 "cells": [
  {
   "cell_type": "markdown",
   "metadata": {},
   "source": [
    "## Bisection method for the reciprocal\n",
    "\n",
    "One way to compute $1/d$ to double precision is to use bisection.  Note that we are going to assume that $d > 0$."
   ]
  },
  {
   "cell_type": "code",
   "execution_count": 1,
   "metadata": {},
   "outputs": [
    {
     "data": {
      "text/plain": [
       "reciprocal_bisect (generic function with 1 method)"
      ]
     },
     "execution_count": 1,
     "metadata": {},
     "output_type": "execute_result"
    }
   ],
   "source": [
    "function reciprocal_bisect(d)\n",
    "    hi = 1\n",
    "    lo = 0\n",
    "    for k = 1:63\n",
    "        x = (hi+lo)/2\n",
    "        fx = d*x-1\n",
    "        if fx > 0\n",
    "            hi = x\n",
    "        else\n",
    "            lo = x\n",
    "        end\n",
    "    end\n",
    "    return (hi+lo)/2\n",
    "end"
   ]
  },
  {
   "cell_type": "code",
   "execution_count": 2,
   "metadata": {},
   "outputs": [
    {
     "data": {
      "text/plain": [
       "0.1"
      ]
     },
     "execution_count": 2,
     "metadata": {},
     "output_type": "execute_result"
    }
   ],
   "source": [
    "reciprocal_bisect(10)"
   ]
  },
  {
   "cell_type": "markdown",
   "metadata": {},
   "source": [
    "## Binary long division\n",
    "\n",
    "An alternate implementation is binary long division, the same algorithm that you were probably taught in elementary school (except in binary)."
   ]
  },
  {
   "cell_type": "code",
   "execution_count": 3,
   "metadata": {},
   "outputs": [
    {
     "data": {
      "text/plain": [
       "reciprocal_divide (generic function with 1 method)"
      ]
     },
     "execution_count": 3,
     "metadata": {},
     "output_type": "execute_result"
    }
   ],
   "source": [
    "function reciprocal_divide(d)\n",
    "    r = 1     # Current remainder\n",
    "    x = 0     # Current reciprocal estimate\n",
    "    bit = 0.5 # Value of a one in the current place\n",
    "    for k = 1:63\n",
    "        if r > d*bit\n",
    "            x = x +   bit\n",
    "            r = r - d*bit\n",
    "        end\n",
    "        bit = bit/2;\n",
    "    end\n",
    "    return x\n",
    "end"
   ]
  },
  {
   "cell_type": "code",
   "execution_count": 4,
   "metadata": {},
   "outputs": [
    {
     "data": {
      "text/plain": [
       "0.1"
      ]
     },
     "execution_count": 4,
     "metadata": {},
     "output_type": "execute_result"
    }
   ],
   "source": [
    "reciprocal_divide(10)"
   ]
  },
  {
   "cell_type": "markdown",
   "metadata": {},
   "source": [
    "## Rates of convergence\n",
    "\n",
    "Bisection and binary long division both have a linear rate of convergence.  The Newton iteration converges quadratically -- but only when the starting point is close enough to the correct answer."
   ]
  },
  {
   "cell_type": "code",
   "execution_count": 5,
   "metadata": {},
   "outputs": [
    {
     "data": {
      "image/svg+xml": [
       "<?xml version=\"1.0\" encoding=\"utf-8\"?>\n",
       "<svg xmlns=\"http://www.w3.org/2000/svg\" xmlns:xlink=\"http://www.w3.org/1999/xlink\" width=\"600\" height=\"400\" viewBox=\"0 0 2400 1600\">\n",
       "<defs>\n",
       "  <clipPath id=\"clip1500\">\n",
       "    <rect x=\"0\" y=\"0\" width=\"2400\" height=\"1600\"/>\n",
       "  </clipPath>\n",
       "</defs>\n",
       "<path clip-path=\"url(#clip1500)\" d=\"\n",
       "M0 1600 L2400 1600 L2400 0 L0 0  Z\n",
       "  \" fill=\"#ffffff\" fill-rule=\"evenodd\" fill-opacity=\"1\"/>\n",
       "<defs>\n",
       "  <clipPath id=\"clip1501\">\n",
       "    <rect x=\"480\" y=\"0\" width=\"1681\" height=\"1600\"/>\n",
       "  </clipPath>\n",
       "</defs>\n",
       "<path clip-path=\"url(#clip1500)\" d=\"\n",
       "M306.582 1425.62 L2352.76 1425.62 L2352.76 47.2441 L306.582 47.2441  Z\n",
       "  \" fill=\"#ffffff\" fill-rule=\"evenodd\" fill-opacity=\"1\"/>\n",
       "<defs>\n",
       "  <clipPath id=\"clip1502\">\n",
       "    <rect x=\"306\" y=\"47\" width=\"2047\" height=\"1379\"/>\n",
       "  </clipPath>\n",
       "</defs>\n",
       "<polyline clip-path=\"url(#clip1502)\" style=\"stroke:#000000; stroke-width:2; stroke-opacity:0.1; fill:none\" points=\"\n",
       "  330.022,1425.62 330.022,47.2441 \n",
       "  \"/>\n",
       "<polyline clip-path=\"url(#clip1502)\" style=\"stroke:#000000; stroke-width:2; stroke-opacity:0.1; fill:none\" points=\"\n",
       "  674.728,1425.62 674.728,47.2441 \n",
       "  \"/>\n",
       "<polyline clip-path=\"url(#clip1502)\" style=\"stroke:#000000; stroke-width:2; stroke-opacity:0.1; fill:none\" points=\"\n",
       "  1019.43,1425.62 1019.43,47.2441 \n",
       "  \"/>\n",
       "<polyline clip-path=\"url(#clip1502)\" style=\"stroke:#000000; stroke-width:2; stroke-opacity:0.1; fill:none\" points=\"\n",
       "  1364.14,1425.62 1364.14,47.2441 \n",
       "  \"/>\n",
       "<polyline clip-path=\"url(#clip1502)\" style=\"stroke:#000000; stroke-width:2; stroke-opacity:0.1; fill:none\" points=\"\n",
       "  1708.85,1425.62 1708.85,47.2441 \n",
       "  \"/>\n",
       "<polyline clip-path=\"url(#clip1502)\" style=\"stroke:#000000; stroke-width:2; stroke-opacity:0.1; fill:none\" points=\"\n",
       "  2053.55,1425.62 2053.55,47.2441 \n",
       "  \"/>\n",
       "<polyline clip-path=\"url(#clip1502)\" style=\"stroke:#000000; stroke-width:2; stroke-opacity:0.1; fill:none\" points=\"\n",
       "  306.582,1239.85 2352.76,1239.85 \n",
       "  \"/>\n",
       "<polyline clip-path=\"url(#clip1502)\" style=\"stroke:#000000; stroke-width:2; stroke-opacity:0.1; fill:none\" points=\"\n",
       "  306.582,844.837 2352.76,844.837 \n",
       "  \"/>\n",
       "<polyline clip-path=\"url(#clip1502)\" style=\"stroke:#000000; stroke-width:2; stroke-opacity:0.1; fill:none\" points=\"\n",
       "  306.582,449.827 2352.76,449.827 \n",
       "  \"/>\n",
       "<polyline clip-path=\"url(#clip1502)\" style=\"stroke:#000000; stroke-width:2; stroke-opacity:0.1; fill:none\" points=\"\n",
       "  306.582,54.8166 2352.76,54.8166 \n",
       "  \"/>\n",
       "<polyline clip-path=\"url(#clip1500)\" style=\"stroke:#000000; stroke-width:4; stroke-opacity:1; fill:none\" points=\"\n",
       "  306.582,1425.62 2352.76,1425.62 \n",
       "  \"/>\n",
       "<polyline clip-path=\"url(#clip1500)\" style=\"stroke:#000000; stroke-width:4; stroke-opacity:1; fill:none\" points=\"\n",
       "  306.582,1425.62 306.582,47.2441 \n",
       "  \"/>\n",
       "<polyline clip-path=\"url(#clip1500)\" style=\"stroke:#000000; stroke-width:4; stroke-opacity:1; fill:none\" points=\"\n",
       "  330.022,1425.62 330.022,1409.08 \n",
       "  \"/>\n",
       "<polyline clip-path=\"url(#clip1500)\" style=\"stroke:#000000; stroke-width:4; stroke-opacity:1; fill:none\" points=\"\n",
       "  674.728,1425.62 674.728,1409.08 \n",
       "  \"/>\n",
       "<polyline clip-path=\"url(#clip1500)\" style=\"stroke:#000000; stroke-width:4; stroke-opacity:1; fill:none\" points=\"\n",
       "  1019.43,1425.62 1019.43,1409.08 \n",
       "  \"/>\n",
       "<polyline clip-path=\"url(#clip1500)\" style=\"stroke:#000000; stroke-width:4; stroke-opacity:1; fill:none\" points=\"\n",
       "  1364.14,1425.62 1364.14,1409.08 \n",
       "  \"/>\n",
       "<polyline clip-path=\"url(#clip1500)\" style=\"stroke:#000000; stroke-width:4; stroke-opacity:1; fill:none\" points=\"\n",
       "  1708.85,1425.62 1708.85,1409.08 \n",
       "  \"/>\n",
       "<polyline clip-path=\"url(#clip1500)\" style=\"stroke:#000000; stroke-width:4; stroke-opacity:1; fill:none\" points=\"\n",
       "  2053.55,1425.62 2053.55,1409.08 \n",
       "  \"/>\n",
       "<polyline clip-path=\"url(#clip1500)\" style=\"stroke:#000000; stroke-width:4; stroke-opacity:1; fill:none\" points=\"\n",
       "  306.582,1239.85 331.136,1239.85 \n",
       "  \"/>\n",
       "<polyline clip-path=\"url(#clip1500)\" style=\"stroke:#000000; stroke-width:4; stroke-opacity:1; fill:none\" points=\"\n",
       "  306.582,844.837 331.136,844.837 \n",
       "  \"/>\n",
       "<polyline clip-path=\"url(#clip1500)\" style=\"stroke:#000000; stroke-width:4; stroke-opacity:1; fill:none\" points=\"\n",
       "  306.582,449.827 331.136,449.827 \n",
       "  \"/>\n",
       "<polyline clip-path=\"url(#clip1500)\" style=\"stroke:#000000; stroke-width:4; stroke-opacity:1; fill:none\" points=\"\n",
       "  306.582,54.8166 331.136,54.8166 \n",
       "  \"/>\n",
       "<g clip-path=\"url(#clip1500)\">\n",
       "<text style=\"fill:#000000; fill-opacity:1; font-family:Arial,Helvetica Neue,Helvetica,sans-serif; font-size:48px; text-anchor:middle;\" transform=\"rotate(0, 330.022, 1479.62)\" x=\"330.022\" y=\"1479.62\">0</text>\n",
       "</g>\n",
       "<g clip-path=\"url(#clip1500)\">\n",
       "<text style=\"fill:#000000; fill-opacity:1; font-family:Arial,Helvetica Neue,Helvetica,sans-serif; font-size:48px; text-anchor:middle;\" transform=\"rotate(0, 674.728, 1479.62)\" x=\"674.728\" y=\"1479.62\">10</text>\n",
       "</g>\n",
       "<g clip-path=\"url(#clip1500)\">\n",
       "<text style=\"fill:#000000; fill-opacity:1; font-family:Arial,Helvetica Neue,Helvetica,sans-serif; font-size:48px; text-anchor:middle;\" transform=\"rotate(0, 1019.43, 1479.62)\" x=\"1019.43\" y=\"1479.62\">20</text>\n",
       "</g>\n",
       "<g clip-path=\"url(#clip1500)\">\n",
       "<text style=\"fill:#000000; fill-opacity:1; font-family:Arial,Helvetica Neue,Helvetica,sans-serif; font-size:48px; text-anchor:middle;\" transform=\"rotate(0, 1364.14, 1479.62)\" x=\"1364.14\" y=\"1479.62\">30</text>\n",
       "</g>\n",
       "<g clip-path=\"url(#clip1500)\">\n",
       "<text style=\"fill:#000000; fill-opacity:1; font-family:Arial,Helvetica Neue,Helvetica,sans-serif; font-size:48px; text-anchor:middle;\" transform=\"rotate(0, 1708.85, 1479.62)\" x=\"1708.85\" y=\"1479.62\">40</text>\n",
       "</g>\n",
       "<g clip-path=\"url(#clip1500)\">\n",
       "<text style=\"fill:#000000; fill-opacity:1; font-family:Arial,Helvetica Neue,Helvetica,sans-serif; font-size:48px; text-anchor:middle;\" transform=\"rotate(0, 2053.55, 1479.62)\" x=\"2053.55\" y=\"1479.62\">50</text>\n",
       "</g>\n",
       "<g clip-path=\"url(#clip1500)\">\n",
       "<text style=\"fill:#000000; fill-opacity:1; font-family:Arial,Helvetica Neue,Helvetica,sans-serif; font-size:48px; text-anchor:start;\" transform=\"rotate(0, 151.857, 1263.58)\" x=\"151.857\" y=\"1263.58\">10</text>\n",
       "</g>\n",
       "<g clip-path=\"url(#clip1500)\">\n",
       "<text style=\"fill:#000000; fill-opacity:1; font-family:Arial,Helvetica Neue,Helvetica,sans-serif; font-size:38px; text-anchor:start;\" transform=\"rotate(0, 205.382, 1236.16)\" x=\"205.382\" y=\"1236.16\">-</text>\n",
       "</g>\n",
       "<g clip-path=\"url(#clip1500)\">\n",
       "<text style=\"fill:#000000; fill-opacity:1; font-family:Arial,Helvetica Neue,Helvetica,sans-serif; font-size:38px; text-anchor:start;\" transform=\"rotate(0, 228.221, 1236.16)\" x=\"228.221\" y=\"1236.16\">15 </text>\n",
       "</g>\n",
       "<g clip-path=\"url(#clip1500)\">\n",
       "<text style=\"fill:#000000; fill-opacity:1; font-family:Arial,Helvetica Neue,Helvetica,sans-serif; font-size:48px; text-anchor:start;\" transform=\"rotate(0, 151.857, 868.565)\" x=\"151.857\" y=\"868.565\">10</text>\n",
       "</g>\n",
       "<g clip-path=\"url(#clip1500)\">\n",
       "<text style=\"fill:#000000; fill-opacity:1; font-family:Arial,Helvetica Neue,Helvetica,sans-serif; font-size:38px; text-anchor:start;\" transform=\"rotate(0, 205.382, 841.154)\" x=\"205.382\" y=\"841.154\">-</text>\n",
       "</g>\n",
       "<g clip-path=\"url(#clip1500)\">\n",
       "<text style=\"fill:#000000; fill-opacity:1; font-family:Arial,Helvetica Neue,Helvetica,sans-serif; font-size:38px; text-anchor:start;\" transform=\"rotate(0, 228.221, 841.154)\" x=\"228.221\" y=\"841.154\">10 </text>\n",
       "</g>\n",
       "<g clip-path=\"url(#clip1500)\">\n",
       "<text style=\"fill:#000000; fill-opacity:1; font-family:Arial,Helvetica Neue,Helvetica,sans-serif; font-size:48px; text-anchor:start;\" transform=\"rotate(0, 173.602, 473.555)\" x=\"173.602\" y=\"473.555\">10</text>\n",
       "</g>\n",
       "<g clip-path=\"url(#clip1500)\">\n",
       "<text style=\"fill:#000000; fill-opacity:1; font-family:Arial,Helvetica Neue,Helvetica,sans-serif; font-size:38px; text-anchor:start;\" transform=\"rotate(0, 227.126, 446.144)\" x=\"227.126\" y=\"446.144\">-</text>\n",
       "</g>\n",
       "<g clip-path=\"url(#clip1500)\">\n",
       "<text style=\"fill:#000000; fill-opacity:1; font-family:Arial,Helvetica Neue,Helvetica,sans-serif; font-size:38px; text-anchor:start;\" transform=\"rotate(0, 249.966, 446.144)\" x=\"249.966\" y=\"446.144\">5 </text>\n",
       "</g>\n",
       "<g clip-path=\"url(#clip1500)\">\n",
       "<text style=\"fill:#000000; fill-opacity:1; font-family:Arial,Helvetica Neue,Helvetica,sans-serif; font-size:48px; text-anchor:start;\" transform=\"rotate(0, 196.441, 78.5442)\" x=\"196.441\" y=\"78.5442\">10</text>\n",
       "</g>\n",
       "<g clip-path=\"url(#clip1500)\">\n",
       "<text style=\"fill:#000000; fill-opacity:1; font-family:Arial,Helvetica Neue,Helvetica,sans-serif; font-size:38px; text-anchor:start;\" transform=\"rotate(0, 249.966, 51.1338)\" x=\"249.966\" y=\"51.1338\">0 </text>\n",
       "</g>\n",
       "<g clip-path=\"url(#clip1500)\">\n",
       "<text style=\"fill:#000000; fill-opacity:1; font-family:Arial,Helvetica Neue,Helvetica,sans-serif; font-size:66px; text-anchor:middle;\" transform=\"rotate(0, 1329.67, 1559.48)\" x=\"1329.67\" y=\"1559.48\">Iterations</text>\n",
       "</g>\n",
       "<g clip-path=\"url(#clip1500)\">\n",
       "<text style=\"fill:#000000; fill-opacity:1; font-family:Arial,Helvetica Neue,Helvetica,sans-serif; font-size:66px; text-anchor:middle;\" transform=\"rotate(-90, 89.2861, 736.431)\" x=\"89.2861\" y=\"736.431\">Error</text>\n",
       "</g>\n",
       "<polyline clip-path=\"url(#clip1502)\" style=\"stroke:#009af9; stroke-width:4; stroke-opacity:1; fill:none\" points=\"\n",
       "  364.493,86.2547 398.964,119.907 433.434,181.383 467.905,167.471 502.375,228.947 536.846,215.035 571.316,276.511 605.787,262.599 640.258,324.075 674.728,310.163 \n",
       "  709.199,371.639 743.669,357.727 778.14,419.203 812.61,405.291 847.081,466.767 881.552,452.855 916.022,514.331 950.493,500.419 984.963,561.894 1019.43,547.983 \n",
       "  1053.9,609.458 1088.38,595.547 1122.85,657.022 1157.32,643.111 1191.79,704.586 1226.26,690.675 1260.73,752.15 1295.2,738.239 1329.67,799.714 1364.14,785.803 \n",
       "  1398.61,847.278 1433.08,833.367 1467.55,894.842 1502.02,880.931 1536.49,942.406 1570.96,928.495 1605.43,989.97 1639.9,976.059 1674.37,1037.53 1708.85,1023.62 \n",
       "  1743.32,1085.1 1777.79,1071.19 1812.26,1132.67 1846.73,1118.75 1881.2,1180.19 1915.67,1166.34 1950.14,1227.92 1984.61,1213.79 2019.08,1274.82 2053.55,1261.8 \n",
       "  2088.02,1325.13 2122.49,1307.61 2156.96,1362.83 2191.43,1362.83 2225.9,1386.61 \n",
       "  \"/>\n",
       "<polyline clip-path=\"url(#clip1502)\" style=\"stroke:#e26f46; stroke-width:4; stroke-opacity:1; fill:none\" points=\"\n",
       "  364.493,133.819 398.964,133.819 433.434,133.819 467.905,133.819 502.375,167.471 536.846,228.947 571.316,228.947 605.787,228.947 640.258,262.599 674.728,324.075 \n",
       "  709.199,324.075 743.669,324.075 778.14,357.727 812.61,419.203 847.081,419.203 881.552,419.203 916.022,452.855 950.493,514.331 984.963,514.331 1019.43,514.331 \n",
       "  1053.9,547.983 1088.38,609.458 1122.85,609.458 1157.32,609.458 1191.79,643.111 1226.26,704.586 1260.73,704.586 1295.2,704.586 1329.67,738.239 1364.14,799.714 \n",
       "  1398.61,799.714 1433.08,799.714 1467.55,833.367 1502.02,894.842 1536.49,894.842 1570.96,894.842 1605.43,928.495 1639.9,989.97 1674.37,989.97 1708.85,989.97 \n",
       "  1743.32,1023.62 1777.79,1085.1 1812.26,1085.1 1846.73,1085.1 1881.2,1118.75 1915.67,1180.19 1950.14,1180.19 1984.61,1180.19 2019.08,1213.79 2053.55,1274.82 \n",
       "  2088.02,1274.82 2122.49,1274.82 2156.96,1307.61 2191.43,1362.83 2225.9,1362.83 2260.37,1362.83 2294.85,1386.61 \n",
       "  \"/>\n",
       "<polyline clip-path=\"url(#clip1502)\" style=\"stroke:#3da44d; stroke-width:4; stroke-opacity:1; fill:none\" points=\"\n",
       "  364.493,181.383 398.964,228.947 433.434,324.075 467.905,514.331 502.375,894.842 \n",
       "  \"/>\n",
       "<path clip-path=\"url(#clip1500)\" d=\"\n",
       "M1759.85 372.684 L2280.76 372.684 L2280.76 130.764 L1759.85 130.764  Z\n",
       "  \" fill=\"#ffffff\" fill-rule=\"evenodd\" fill-opacity=\"1\"/>\n",
       "<polyline clip-path=\"url(#clip1500)\" style=\"stroke:#000000; stroke-width:4; stroke-opacity:1; fill:none\" points=\"\n",
       "  1759.85,372.684 2280.76,372.684 2280.76,130.764 1759.85,130.764 1759.85,372.684 \n",
       "  \"/>\n",
       "<polyline clip-path=\"url(#clip1500)\" style=\"stroke:#009af9; stroke-width:4; stroke-opacity:1; fill:none\" points=\"\n",
       "  1783.85,191.244 1927.85,191.244 \n",
       "  \"/>\n",
       "<g clip-path=\"url(#clip1500)\">\n",
       "<text style=\"fill:#000000; fill-opacity:1; font-family:Arial,Helvetica Neue,Helvetica,sans-serif; font-size:48px; text-anchor:start;\" transform=\"rotate(0, 1951.85, 208.744)\" x=\"1951.85\" y=\"208.744\">Bisection</text>\n",
       "</g>\n",
       "<polyline clip-path=\"url(#clip1500)\" style=\"stroke:#e26f46; stroke-width:4; stroke-opacity:1; fill:none\" points=\"\n",
       "  1783.85,251.724 1927.85,251.724 \n",
       "  \"/>\n",
       "<g clip-path=\"url(#clip1500)\">\n",
       "<text style=\"fill:#000000; fill-opacity:1; font-family:Arial,Helvetica Neue,Helvetica,sans-serif; font-size:48px; text-anchor:start;\" transform=\"rotate(0, 1951.85, 269.224)\" x=\"1951.85\" y=\"269.224\">Long division</text>\n",
       "</g>\n",
       "<polyline clip-path=\"url(#clip1500)\" style=\"stroke:#3da44d; stroke-width:4; stroke-opacity:1; fill:none\" points=\"\n",
       "  1783.85,312.204 1927.85,312.204 \n",
       "  \"/>\n",
       "<g clip-path=\"url(#clip1500)\">\n",
       "<text style=\"fill:#000000; fill-opacity:1; font-family:Arial,Helvetica Neue,Helvetica,sans-serif; font-size:48px; text-anchor:start;\" transform=\"rotate(0, 1951.85, 329.704)\" x=\"1951.85\" y=\"329.704\">Newton</text>\n",
       "</g>\n",
       "</svg>\n"
      ]
     },
     "execution_count": 5,
     "metadata": {},
     "output_type": "execute_result"
    }
   ],
   "source": [
    "using Plots\n",
    "d = 10\n",
    "\n",
    "hi = 1\n",
    "lo = 0\n",
    "bisect_errs = zeros(63)\n",
    "for k = 1:63\n",
    "    x = (hi+lo)/2\n",
    "    bisect_errs[k] = 1/d-x\n",
    "    fx = d*x-1\n",
    "    if fx > 0\n",
    "        hi = x\n",
    "    else\n",
    "        lo = x\n",
    "    end\n",
    "end\n",
    "\n",
    "r = 1     # Current remainder\n",
    "x = 0     # Current reciprocal estimate\n",
    "bit = 0.5 # Value of a one in the current place\n",
    "long_errs = zeros(63)\n",
    "for k = 1:63\n",
    "    long_errs[k] = 1/d-x\n",
    "    if r > d*bit\n",
    "        x = x +   bit\n",
    "        r = r - d*bit\n",
    "    end\n",
    "    bit = bit/2\n",
    "end\n",
    "\n",
    "x = 0.125\n",
    "newton_errs = zeros(63)\n",
    "for k = 1:63\n",
    "    newton_errs[k] = 1/d-x\n",
    "    x = x*(2-d*x)\n",
    "end\n",
    "\n",
    "plot(abs.(bisect_errs[bisect_errs .!= 0]), yaxis=:log, label=\"Bisection\", ylabel=\"Error\", xlabel=\"Iterations\")\n",
    "plot!(abs.(long_errs[long_errs .!= 0]), yaxis=:log, label=\"Long division\")\n",
    "plot!(abs.(newton_errs[newton_errs .!= 0]), yaxis=:log, label=\"Newton\")"
   ]
  }
 ],
 "metadata": {
  "kernelspec": {
   "display_name": "Julia 1.3.1",
   "language": "julia",
   "name": "julia-1.3"
  },
  "language_info": {
   "file_extension": ".jl",
   "mimetype": "application/julia",
   "name": "julia",
   "version": "1.3.1"
  }
 },
 "nbformat": 4,
 "nbformat_minor": 2
}
