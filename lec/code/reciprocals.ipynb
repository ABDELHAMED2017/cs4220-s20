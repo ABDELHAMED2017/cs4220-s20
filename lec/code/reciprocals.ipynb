{
 "cells": [
  {
   "cell_type": "markdown",
   "metadata": {},
   "source": [
    "## Bisection method for the reciprocal\n",
    "\n",
    "One way to compute $1/d$ to double precision is to use bisection.  Note that we are going to assume that $d > 0$."
   ]
  },
  {
   "cell_type": "code",
   "execution_count": 1,
   "metadata": {},
   "outputs": [
    {
     "data": {
      "text/plain": [
       "reciprocal_bisect (generic function with 1 method)"
      ]
     },
     "execution_count": 1,
     "metadata": {},
     "output_type": "execute_result"
    }
   ],
   "source": [
    "function reciprocal_bisect(d)\n",
    "    hi = 1\n",
    "    lo = 0\n",
    "    for k = 1:63\n",
    "        x = (hi+lo)/2\n",
    "        fx = d*x-1\n",
    "        if fx > 0\n",
    "            hi = x\n",
    "        else\n",
    "            lo = x\n",
    "        end\n",
    "    end\n",
    "    return (hi+lo)/2\n",
    "end"
   ]
  },
  {
   "cell_type": "code",
   "execution_count": 2,
   "metadata": {},
   "outputs": [
    {
     "data": {
      "text/plain": [
       "0.1"
      ]
     },
     "execution_count": 2,
     "metadata": {},
     "output_type": "execute_result"
    }
   ],
   "source": [
    "reciprocal_bisect(10)"
   ]
  },
  {
   "cell_type": "markdown",
   "metadata": {},
   "source": [
    "## Binary long division\n",
    "\n",
    "An alternate implementation is binary long division, the same algorithm that you were probably taught in elementary school (except in binary)."
   ]
  },
  {
   "cell_type": "code",
   "execution_count": 3,
   "metadata": {},
   "outputs": [
    {
     "data": {
      "text/plain": [
       "reciprocal_divide (generic function with 1 method)"
      ]
     },
     "execution_count": 3,
     "metadata": {},
     "output_type": "execute_result"
    }
   ],
   "source": [
    "function reciprocal_divide(d)\n",
    "    r = 1     # Current remainder\n",
    "    x = 0     # Current reciprocal estimate\n",
    "    bit = 0.5 # Value of a one in the current place\n",
    "    for k = 1:63\n",
    "        if r > d*bit\n",
    "            x = x +   bit\n",
    "            r = r - d*bit\n",
    "        end\n",
    "        bit = bit/2;\n",
    "    end\n",
    "    return x\n",
    "end"
   ]
  },
  {
   "cell_type": "code",
   "execution_count": 4,
   "metadata": {},
   "outputs": [
    {
     "data": {
      "text/plain": [
       "0.1"
      ]
     },
     "execution_count": 4,
     "metadata": {},
     "output_type": "execute_result"
    }
   ],
   "source": [
    "reciprocal_divide(10)"
   ]
  }
 ],
 "metadata": {
  "kernelspec": {
   "display_name": "Julia 1.3.1",
   "language": "julia",
   "name": "julia-1.3"
  },
  "language_info": {
   "file_extension": ".jl",
   "mimetype": "application/julia",
   "name": "julia",
   "version": "1.3.1"
  }
 },
 "nbformat": 4,
 "nbformat_minor": 2
}
