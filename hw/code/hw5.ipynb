{
 "cells": [
  {
   "cell_type": "markdown",
   "metadata": {},
   "source": [
    "# HW 5 (due 2020-04-17)\n",
    "\n",
    "## 1: Crossing cubics\n",
    "\n",
    "A *Bezier curve of degree $n$* is the curve traced out by\n",
    "$$\n",
    "  f(t) = \\sum_{i=0}^n p_i B_i^n(t), \\quad t \\in [0,1]\n",
    "$$\n",
    "where the points $p_i \\in \\mathbb{R}^2$ are *control points* and\n",
    "the functions $B_i^n(t)$ are the *Bernstein polynomials*\n",
    "$$\n",
    "  B_i^n(t) = C^n_i (1-t)^{n-i} t^i \\quad C^n_i = \\frac{n!}{i!(n-i)!}.\n",
    "$$\n",
    "A common type of Bezier curve in computer graphics is the *cubic Bezier curve*\n",
    "defined by four control points"
   ]
  },
  {
   "cell_type": "code",
   "execution_count": null,
   "metadata": {},
   "outputs": [],
   "source": [
    "using LinearAlgebra\n",
    "using Plots"
   ]
  },
  {
   "cell_type": "code",
   "execution_count": null,
   "metadata": {},
   "outputs": [],
   "source": [
    "bezier(p) = (t) -> p[:,1]*(1.0-t)^3 + p[:,2]*3*(1.0.-t)^2*t + p[:,3]*3*(1.0-t)*t^2 + p[:,4]*t^3\n",
    "dbezier(p) = (t) -> p[:,1]*(-3*(1.0-t)^2) + p[:,2]*3*(1.0.-t)*(1.0-3.0*t) + p[:,3]*3*(2.0-3.0*t)*t + p[:,4]*3*t^2"
   ]
  },
  {
   "cell_type": "markdown",
   "metadata": {},
   "source": [
    "Let us illustrate via two example curves."
   ]
  },
  {
   "cell_type": "code",
   "execution_count": null,
   "metadata": {},
   "outputs": [],
   "source": [
    "# Define control points for two sample curves\n",
    "pf = [0. 0. 2. 4.;\n",
    "      0. 2. 2. 2.]\n",
    "pg = [1. 1. 2. 3.;\n",
    "      3. 2. 0. 0.]\n",
    "f = bezier(pf)\n",
    "g = bezier(pg)\n",
    "\n",
    "# Compute points on the curves\n",
    "ts = range(0, 1, length=100)\n",
    "ft = f.(ts)\n",
    "gt = g.(ts)\n",
    "\n",
    "# Draw a plot\n",
    "plot([x for (x,y) in ft], [y for (x,y) in ft], linecolor=:blue, label=\"f\")\n",
    "plot!([x for (x,y) in gt], [y for (x,y) in gt], linecolor=:red,  label=\"g\")"
   ]
  },
  {
   "cell_type": "markdown",
   "metadata": {},
   "source": [
    "Complete the function `bezier_intersect` below to find the intersection of cubic Bezier curves\n",
    "defined by the columns of `pf` and `pg` (each of dimension 2-by-4).  You may assume that the\n",
    "intersection exists and is unique.  Add convergence plots to ensure that convergence is quadratic\n",
    "and not linear (you may use the monitor argument trick that appears at various points in the notes)."
   ]
  },
  {
   "cell_type": "code",
   "execution_count": null,
   "metadata": {},
   "outputs": [],
   "source": [
    "function bezier_intersect(pf, pg)\n",
    "\n",
    "    # Define the Bezier functions\n",
    "    f = bezier(pf)\n",
    "    g = bezier(pg)\n",
    "    df = dbezier(pf)\n",
    "    dg = dbezier(pg)\n",
    "    \n",
    "    # Trace curves to get an initial guess\n",
    "    m = 20\n",
    "    ts = range(0, 1, length=m)\n",
    "    D = zeros(m, m)\n",
    "    for i = 1:m\n",
    "        for j = 1:m\n",
    "            D[i,j] = norm( f(ts[i])-g(ts[j]) )\n",
    "        end\n",
    "    end\n",
    "    idx = argmin(D)\n",
    "    t = [ts[idx[1]] ; ts[idx[2]]]\n",
    "    \n",
    "    # Now run a Newton iteration on h(t) = f(t1)-g(t2) = 0 from the given initial guess\n",
    "    # TODO\n",
    "\n",
    "    return t\n",
    "end"
   ]
  },
  {
   "cell_type": "code",
   "execution_count": null,
   "metadata": {},
   "outputs": [],
   "source": [
    "t = bezier_intersect(pf, pg)\n",
    "norm(f(t[1])-g(t[2]))"
   ]
  },
  {
   "cell_type": "markdown",
   "metadata": {},
   "source": [
    "## 2: Funky fixed points\n",
    "\n",
    "Argue that the iteration\n",
    "$$\\begin{aligned}\n",
    "  3x_{k+1} + 2y_{k+1} &= \\cos(x_k) \\\\\n",
    "  2x_{k+1} + 4y_{k+1} &= \\cos(y_k)\n",
    "\\end{aligned}$$\n",
    "converges to a unique fixed point $(x_*, y_*)$, regardless of the\n",
    "initial point, and that $\\|e_{k+1}\\|_2 < 0.7 \\|e_k\\|_2$ where\n",
    "$e_k = (x_k-x_*, y_k-y_*)$.  Starting from the point $(1,1)$,\n",
    "draw a semi-logarithmic plot of the error versus $k$ to illustrate\n",
    "the convergence."
   ]
  }
 ],
 "metadata": {
  "kernelspec": {
   "display_name": "Julia 1.3.1",
   "language": "julia",
   "name": "julia-1.3"
  },
  "language_info": {
   "file_extension": ".jl",
   "mimetype": "application/julia",
   "name": "julia"
  }
 },
 "nbformat": 4,
 "nbformat_minor": 2
}
