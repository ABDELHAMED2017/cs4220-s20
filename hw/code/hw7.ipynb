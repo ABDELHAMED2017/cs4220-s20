{
 "cells": [
  {
   "cell_type": "markdown",
   "metadata": {},
   "source": [
    "# HW 7-8 (due 2020-05-11)"
   ]
  },
  {
   "cell_type": "code",
   "execution_count": null,
   "metadata": {},
   "outputs": [],
   "source": [
    "using LinearAlgebra\n",
    "using Plots"
   ]
  },
  {
   "cell_type": "markdown",
   "metadata": {},
   "source": [
    "## 1: Tying the chord\n",
    "\n",
    "Consider the nonlinear least squares problem of minimizing $\\|f(x)\\|^2$ for $f : \\mathbb{R}^n \\rightarrow \\mathbb{R}^m$.\n",
    "The Gauss-Newton iteration considered in the 2020-04-27 lecture solves this problem by\n",
    "$$\n",
    "  x_{k+1} = x_k - f'(x_k)^\\dagger f(x_k).\n",
    "$$\n",
    "A friend suggests that you could solve the problem more quickly by approximating the problem as in the chord iteration\n",
    "$$\n",
    "  x_{k+1} = x_k - f'(x_0)^\\dagger f(x_k).\n",
    "$$\n",
    "Convince your friend that while this iteration may frequently converge, it does not usually converge to\n",
    "the correct solution."
   ]
  },
  {
   "cell_type": "markdown",
   "metadata": {},
   "source": [
    "#### Answer"
   ]
  },
  {
   "cell_type": "markdown",
   "metadata": {},
   "source": [
    "## 2: Discrete sine-Gordon\n",
    "\n",
    "Consider the equation\n",
    "$$\n",
    "  \\lambda (u_{j+1} - 2u_j + u_{j-1}) + \\sin(u_j) = 0\n",
    "$$\n",
    "with $u_0 = u_{101} = 0$.  This equation models equilibria of simple pendula coupled together by torsional springs of strength $\\lambda$.  Use continuation to follow a solution path from the initial condition\n",
    "$u_{50} = 2\\pi$ and $u_j = 0$ and $\\lambda = 0$, for increasing values of $\\lambda$.  Plot the value of $u_{50}$\n",
    "vs $\\lambda$ on a graph.  What is the approximate maximum value of $\\lambda$ allowed?"
   ]
  },
  {
   "cell_type": "markdown",
   "metadata": {},
   "source": [
    "#### Answer"
   ]
  },
  {
   "cell_type": "code",
   "execution_count": null,
   "metadata": {},
   "outputs": [],
   "source": [
    "# Function and Jacobian\n",
    "Fsg(u, λ) = -λ*T*u + sin.(u)\n",
    "Jsg(u, λ) = SymTridiagonal(-2*λ .+ cos.(u), λ*ones(N-1))\n",
    "dλ_Fsg(u, λ) = -T*u"
   ]
  },
  {
   "cell_type": "markdown",
   "metadata": {},
   "source": [
    "## 3: Finding the fold\n",
    "\n",
    "For the discrete sine-Gordon problem above, write the stationary conditions for maximizing $\\lambda$ subject to the equality constraints $F(u, \\lambda) = 0$.  Write (and test out) a Newton iteration to solve this stationary equation"
   ]
  },
  {
   "cell_type": "markdown",
   "metadata": {},
   "source": [
    "### Answer"
   ]
  },
  {
   "cell_type": "code",
   "execution_count": null,
   "metadata": {},
   "outputs": [],
   "source": []
  }
 ],
 "metadata": {
  "kernelspec": {
   "display_name": "Julia 1.3.1",
   "language": "julia",
   "name": "julia-1.3"
  },
  "language_info": {
   "file_extension": ".jl",
   "mimetype": "application/julia",
   "name": "julia"
  }
 },
 "nbformat": 4,
 "nbformat_minor": 2
}
