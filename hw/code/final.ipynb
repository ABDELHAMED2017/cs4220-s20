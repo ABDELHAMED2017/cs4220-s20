{
 "cells": [
  {
   "cell_type": "markdown",
   "metadata": {},
   "source": [
    "# Final exam for 4220\n",
    "## Due date: 2020-05-21\n",
    "\n",
    "You can (and should) consult any resources you wish *except* for people outside the course staff.\n",
    "Provide attribution (e.g. a citation or link) for any ideas you get.  Your final write-up should be\n",
    "your own.  We are providing the exam in the form of a Jupyter notebook in Julia, but while you\n",
    "are encouraged to use the same format for your submission, it is not required.  Each problem is worth\n",
    "six points (total is out of 30)."
   ]
  },
  {
   "cell_type": "code",
   "execution_count": null,
   "metadata": {},
   "outputs": [],
   "source": [
    "using LinearAlgebra\n",
    "using Plots"
   ]
  },
  {
   "cell_type": "markdown",
   "metadata": {},
   "source": [
    "## Problem 1\n",
    "\n",
    "Write a code to find the smallest positive solution of $(1-\\alpha) x = \\sin(x)$ for $0 < \\alpha \\leq 1$.\n",
    "Your code should achieve good relative accuracy throughout the range, including for small $\\alpha$.\n",
    "For $\\alpha < 10^{-6}$, use the Taylor expansion\n",
    "$$\n",
    "  \\sin(x) \\approx x - \\frac{x^3}{6} + \\frac{x^5}{120}\n",
    "$$\n",
    "to compute $x$; make sure this computation does not run into roundoff issues!\n",
    "For larger $\\alpha$, use Newton iteration with a good initial guess.\n",
    "Draw a log-log plot of $x$ vs $\\alpha$ (for $\\alpha$ ranging from $10^{-20}$ to $10^{0}$) to illustrate\n",
    "correct behavior near 0, and check the residual $(1-\\alpha) x - \\sin(x)$ for the entire range up to 1."
   ]
  },
  {
   "cell_type": "markdown",
   "metadata": {},
   "source": [
    "#### Answer"
   ]
  },
  {
   "cell_type": "code",
   "execution_count": null,
   "metadata": {},
   "outputs": [],
   "source": [
    "function problem1(α)\n",
    "    if α < 1e-6\n",
    "        # Use Taylor approximation descrbed above\n",
    "    else\n",
    "        # Use Newton iteration with a good enough initial guess\n",
    "    end\n",
    "end"
   ]
  },
  {
   "cell_type": "markdown",
   "metadata": {},
   "source": [
    "## Problem 2\n",
    "\n",
    "Write a continuation routine to trace out the curve defined by\n",
    "$$\n",
    "  x^2 - y^2 + (x^7 + y^7)/8 + (x^4+y^4)/4 = 0.5\n",
    "$$\n",
    "from $x = -3$ to $x = 3$.  Use pseudo-arclength continuation, and space the points out by about $h = 0.01$."
   ]
  },
  {
   "cell_type": "markdown",
   "metadata": {},
   "source": [
    "#### Answer"
   ]
  },
  {
   "cell_type": "code",
   "execution_count": null,
   "metadata": {},
   "outputs": [],
   "source": [
    "f(x, y) = x^2 - y^2 + (x^7 + y^7)/8 + (x^4 + y^4)/4 - 0.5\n",
    "df(x, y) = [ 2*x + 7*x^6/8 + x^3; \n",
    "            -2*y + 7*y^6/8 + y^3 ]\n",
    "\n",
    "# Set up storage for the (x,y) pairs along the curve\n",
    "xs = []\n",
    "ys = []\n",
    "\n",
    "# Find initial point at x = -3.0\n",
    "# TODO\n",
    "\n",
    "# Pseudo-arclength continuation steps up to x > 3.0\n",
    "# TODO\n",
    "\n",
    "# Plot the computed curve together with the zero set from the contour plotter\n",
    "plot(xs, ys, linewidth=2, linecolor=:black, legend=false)\n",
    "contour!(range(-3.0,3.0, length=100), range(-3.0,3.0, length=100), f, \n",
    "        levels=[0.0], linewidth=2, linecolor=:red, linestyle=:dash)"
   ]
  },
  {
   "cell_type": "markdown",
   "metadata": {},
   "source": [
    "## Problem 3\n",
    "\n",
    "Use Gauss-Newton to find the control points for a cubic Bezier curve $p(t)$ in $\\mathbb{R}^2$\n",
    "(see HW 5) such that $p(0) = (0,0)$ and $p(1) = (0, -\\pi)$ and $\\sum_{j=0}^{100} f(p(j/100))^2$ is minimal, where\n",
    "$f(x, y) = \\cos(x) \\sin(y) + x^2$.  Give the coordinates of the control points, and also draw a plot to illustrate.\n",
    "\n",
    "*Note*: The first and last control points on the Bezier curve are $p_0 = p(0)$ and $p_3 = p(1)$;\n",
    "you need only optimize the remaining two points.  Use the initial guess of $p_1 = (1, 0)$ and $p_2 = (1, -\\pi)$."
   ]
  },
  {
   "cell_type": "markdown",
   "metadata": {},
   "source": [
    "#### Answer"
   ]
  },
  {
   "cell_type": "code",
   "execution_count": null,
   "metadata": {},
   "outputs": [],
   "source": [
    "f(x, y) = cos(x) * sin(y) + x^2\n",
    "\n",
    "# Contour plot to show the curve\n",
    "contour(range(-2.0, 2.0, length=100), range(-4.0, 1.0, length=100), f, levels = [0.0], linestyle=:dash)"
   ]
  },
  {
   "cell_type": "markdown",
   "metadata": {},
   "source": [
    "## Problem 4\n",
    "\n",
    "Consider the equation $Ax = f(y)$ where $y = \\frac{1}{n} \\sum_{i=1}^n x_i$ and $f : \\mathbb{R} \\rightarrow \\mathbb{R}^n$.  Write an unguarded Newton iteration for this class of problems that runs in $O(n^2)$ per step,\n",
    "assuming that you are given a Cholesky factorization of $A$ and routines to compute $f$ and $f'$ in $O(n)$ time.\n",
    "Draw a residual convergence plot to illustrate quadratic convergence for the provided test case."
   ]
  },
  {
   "cell_type": "markdown",
   "metadata": {},
   "source": [
    "#### Answer"
   ]
  },
  {
   "cell_type": "code",
   "execution_count": null,
   "metadata": {},
   "outputs": [],
   "source": [
    "# Suggested interface -- you may modify this\n",
    "function p4solver(x, R, f, df; rtol=1e-8, monitor=(x, y)->nothing)\n",
    "    return x\n",
    "end\n",
    "\n",
    "# Test problem setup\n",
    "A = [ 3.0 -1.0  0.0 ;\n",
    "     -1.0  3.0 -1.0 ;\n",
    "      0.0 -1.0  3.0 ]\n",
    "F = cholesky(A)\n",
    "R = F.U\n",
    "f(y)  = [cos(y)+0.5; y^2-4.0; y+2.0]\n",
    "df(y) = [-sin(y); 2*y; 1.0]\n",
    "\n",
    "# Initial guess\n",
    "x0 = [0.0; 0.0; 0.0]"
   ]
  },
  {
   "cell_type": "markdown",
   "metadata": {},
   "source": [
    "## Problem 5\n",
    "\n",
    "Suppose $x_* \\neq 0$ is a fixed point of both $g : \\mathbb{R} \\rightarrow \\mathbb{R}$ and\n",
    "$h : \\mathbb{R} \\rightarrow \\mathbb{R}$, and both $g$ and $h$ are at least $C^2$.\n",
    "Show that if $g'(x_*) \\neq h'(x_*)$, then there are choices of $\\alpha$ and $\\beta$ such that\n",
    "the iteration $x_{k+1} = \\alpha g(x_k) + \\beta h(x_k)$ converges quadratically to $x_*$ for\n",
    "$x_0$ close enough to $x_*$.  Do the fixed point iterations for $g$ and $h$ need to converge\n",
    "to get a convergent iteration $f$?\n",
    "\n",
    "Illustrate this approach for the case of $g(x) = (x+1)/2$ and $h(x) = \\exp(x-1)$\n",
    "with a starting value of $x = 0$."
   ]
  },
  {
   "cell_type": "markdown",
   "metadata": {},
   "source": [
    "#### Answer"
   ]
  }
 ],
 "metadata": {
  "kernelspec": {
   "display_name": "Julia 1.3.1",
   "language": "julia",
   "name": "julia-1.3"
  },
  "language_info": {
   "file_extension": ".jl",
   "mimetype": "application/julia",
   "name": "julia"
  }
 },
 "nbformat": 4,
 "nbformat_minor": 2
}
