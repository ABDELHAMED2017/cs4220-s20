{
 "cells": [
  {
   "cell_type": "markdown",
   "metadata": {},
   "source": [
    "# Project 1: Where are My Glasses?\n",
    "## Due: 2020-03-06\n",
    "\n",
    "![blurred image](https:/github.com/dbindel/cs4220-s20/raw/master/hw/code/proj1/data/blurry.png)"
   ]
  },
  {
   "cell_type": "markdown",
   "metadata": {},
   "source": [
    "The image above is a blurred version of a picture that\n",
    "I took at the local SPCA.  As we will see, a naive approach to\n",
    "de-blurring produces garbage, a characteristic feature of *ill-posed*\n",
    "problems.  In order to reconstruct the image, we need to *regularize*\n",
    "the reconstruction, just as we would regularize an ill-posed least squares\n",
    "problem.  We will use Tikhonov regularization, as described in class.\n",
    "However, this involves choosing the value of a\n",
    "regularization parameter.  Your mission is to investigate the dependence\n",
    "on the parameter, and to investigate three approaches to\n",
    "choosing this parameter (mostly) automatically.\n",
    "\n",
    "You are given the file `blurry.png` (the blurred image shown above).\n",
    "You are responsible for the following deliverables, which can either\n",
    "by submitted as a Jupyter notebook (recommended) or in standalone code:\n",
    "\n",
    "- Codes to compute \"optimal\" values of the regularization\n",
    "  parameter $\\lambda$ via the discrepancy principle, the L-curve,\n",
    "  and generalized cross-validation.\n",
    "- A report that addresses the questions posed in the rest of this\n",
    "  prompt.\n",
    "\n",
    "This project is inspired by the project on image deblurring by James\n",
    "G. Nagy and Dianne P. O'Leary \n",
    "([Image Deblurring: I Can See Clearly Now](http://ieeexplore.ieee.org/document/1196312/))\n",
    "in _Computing in Science and Engineering_; Project: Vol. 5,\n",
    "No. 3, May/June 2003, pp. 82-85; Solution: Vol. 5, No. 4, July/August\n",
    "2003).  Other useful references include:\n",
    "\n",
    "- Hansen, Nagy, O'Leary.  [*Deblurring Images: Matrices, Spectra, and Filtering*](http://epubs.siam.org/doi/book/10.1137/1.9780898718874), SIAM 2006.\n",
    "- Hansen and O'Leary.  [\"The Use of the L-Curve in the Regularization of Discrete Ill-Posed Problems\"](http://epubs.siam.org/doi/abs/10.1137/0914086) in *SIAM J. Sci. Comput.*, Vol 14, No. 6, November 1993.\n",
    "- Golub, Heath, and Wahba. [\"Generalized Cross-Validation as a Method for Choosing a Good Ridge Parameter\"](http://www.stat.wisc.edu/~wahba/ftp1/oldie/golub.heath.wahba.pdf) in *Technometrics*, Vol. 21, No. 2, May 1979.\n",
    "- Golub and von Matt. [\"Generalized Cross-Validation for Large-Scale Problems\"](https://www.jstor.org/stable/pdf/1390722.pdf) in *Journal of Computational and Graphical Statistics*, Vol. 6, No. 1, March 1997.\n",
    "-  Morozov.  [*Methods for Solving Incorrectly Posed Problems*](https://link.springer.com/book/10.1007%2F978-1-4612-5280-1), Springer-Verlag, 1984.\n",
    "\n",
    "It should be possible to do this assignment based only on ideas\n",
    "presented in this prompt and in the lectures.  However,\n",
    "you are always welcome to use any ideas or code you find in the\n",
    "literature, including in the references noted above, provided you\n",
    "give an appropriate citation."
   ]
  },
  {
   "cell_type": "markdown",
   "metadata": {},
   "source": [
    "## Julia setup\n",
    "\n",
    "The Julia version of this project uses the Jupyter notebook interface for convenience, run using Julia 1.2.0.  You are allowed to submit a standalone code file if you would prefer not to use Jupyter.  To run the notebook, you will need to make sure that a few packages are installed:\n",
    "\n",
    "- [FileIO](https://github.com/JuliaIO/FileIO.jl): The FileIO library provides extensible support for loading different types of files; we use it to work with PNG files.\n",
    "- [Images](https://juliaimages.org/latest/): The Images package provides various tools for working with images.\n",
    "- [FFTW](https://github.com/JuliaMath/FFTW.jl): The FFTW package provides Fourier transform tools.\n",
    "- [Colors](https://github.com/JuliaGraphics/Colors.jl): Manipulates different color spaces\n",
    "- [Roots](https://github.com/JuliaMath/Roots.jl): Solve one-dimensional nonlinear equations\n",
    "- [Plots](http://docs.juliaplots.org/latest/): Create plots in Julia\n",
    "\n",
    "You will also want to install the [ImageMagick](https://github.com/JuliaIO/ImageMagick.jl) or [QuartzImageIO](https://github.com/JuliaIO/QuartzImageIO.jl) (on Mac) to work with FileIO to load images.  You do not need to include these packages directly with `using`, but they will be loaded by the FileIO library."
   ]
  },
  {
   "cell_type": "code",
   "execution_count": 20,
   "metadata": {},
   "outputs": [
    {
     "name": "stdout",
     "output_type": "stream",
     "text": [
      "\u001b[32m\u001b[1m Resolving\u001b[22m\u001b[39m package versions...\n",
      "\u001b[32m\u001b[1m  Updating\u001b[22m\u001b[39m `C:\\Users\\Albert Huang\\.julia\\environments\\v1.3\\Project.toml`\n",
      "\u001b[90m [no changes]\u001b[39m\n",
      "\u001b[32m\u001b[1m  Updating\u001b[22m\u001b[39m `C:\\Users\\Albert Huang\\.julia\\environments\\v1.3\\Manifest.toml`\n",
      "\u001b[90m [no changes]\u001b[39m\n",
      "\u001b[32m\u001b[1m Resolving\u001b[22m\u001b[39m package versions...\n",
      "\u001b[32m\u001b[1m Installed\u001b[22m\u001b[39m Zlib_jll ──────── v1.2.11+8\n",
      "\u001b[32m\u001b[1m Installed\u001b[22m\u001b[39m libpng_jll ────── v1.6.37+2\n",
      "\u001b[32m\u001b[1m Installed\u001b[22m\u001b[39m ImageMagick_jll ─ v6.9.10-12+0\n",
      "\u001b[32m\u001b[1m Installed\u001b[22m\u001b[39m Libtiff_jll ───── v4.0.10+0\n",
      "\u001b[32m\u001b[1m Installed\u001b[22m\u001b[39m JpegTurbo_jll ─── v2.0.1+0\n",
      "\u001b[32m\u001b[1m Installed\u001b[22m\u001b[39m Zstd_jll ──────── v1.4.4+0\n",
      "\u001b[32m\u001b[1m Installed\u001b[22m\u001b[39m ImageMagick ───── v1.1.2\n",
      "\u001b[32m\u001b[1m  Updating\u001b[22m\u001b[39m `C:\\Users\\Albert Huang\\.julia\\environments\\v1.3\\Project.toml`\n",
      " \u001b[90m [6218d12a]\u001b[39m\u001b[92m + ImageMagick v1.1.2\u001b[39m\n",
      "\u001b[32m\u001b[1m  Updating\u001b[22m\u001b[39m `C:\\Users\\Albert Huang\\.julia\\environments\\v1.3\\Manifest.toml`\n",
      " \u001b[90m [6218d12a]\u001b[39m\u001b[92m + ImageMagick v1.1.2\u001b[39m\n",
      " \u001b[90m [c73af94c]\u001b[39m\u001b[92m + ImageMagick_jll v6.9.10-12+0\u001b[39m\n",
      " \u001b[90m [aacddb02]\u001b[39m\u001b[92m + JpegTurbo_jll v2.0.1+0\u001b[39m\n",
      " \u001b[90m [89763e89]\u001b[39m\u001b[92m + Libtiff_jll v4.0.10+0\u001b[39m\n",
      " \u001b[90m [83775a58]\u001b[39m\u001b[92m + Zlib_jll v1.2.11+8\u001b[39m\n",
      " \u001b[90m [3161d3a3]\u001b[39m\u001b[92m + Zstd_jll v1.4.4+0\u001b[39m\n",
      " \u001b[90m [b53b4c65]\u001b[39m\u001b[92m + libpng_jll v1.6.37+2\u001b[39m\n"
     ]
    },
    {
     "ename": "ArgumentError",
     "evalue": "ArgumentError: Package FileIO not found in current path:\n- Run `import Pkg; Pkg.add(\"FileIO\")` to install the FileIO package.\n",
     "output_type": "error",
     "traceback": [
      "ArgumentError: Package FileIO not found in current path:\n- Run `import Pkg; Pkg.add(\"FileIO\")` to install the FileIO package.\n",
      "",
      "Stacktrace:",
      " [1] require(::Module, ::Symbol) at .\\loading.jl:887",
      " [2] top-level scope at In[20]:5"
     ]
    }
   ],
   "source": [
    "import Pkg\n",
    "Pkg.add(\"Images\")\n",
    "Pkg.add(\"FileIO\")\n",
    "Pkg.add(\"ImageMagick\")\n",
    "Pkg.add(\"FFTW\")\n",
    "Pkg.add(\"Colors\")\n",
    "Pkg.add(\"Roots\")\n",
    "Pkg.add(\"Plots\")\n",
    "\n",
    "using Images\n",
    "using FileIO\n",
    "using FFTW\n",
    "using Colors\n",
    "using Roots\n",
    "using Plots\n",
    "\n",
    "using DelimitedFiles\n",
    "using LinearAlgebra"
   ]
  },
  {
   "cell_type": "markdown",
   "metadata": {},
   "source": [
    "Once we have the prerequisites, we can load the blurred image.  If you have the data locally, it is fine to just use `load(\"blurry.png\")` to get the image; but one can also combine the load with a `download` command to fetch the data from an online source."
   ]
  },
  {
   "cell_type": "code",
   "execution_count": 19,
   "metadata": {},
   "outputs": [
    {
     "name": "stderr",
     "output_type": "stream",
     "text": [
      "Error encountered while loading \"C:\\\\Users\\\\ALBERT~1\\\\AppData\\\\Local\\\\Temp\\\\jl_8951.tmp\".\n",
      "\n",
      "Fatal error:\n"
     ]
    },
    {
     "ename": "ArgumentError",
     "evalue": "ArgumentError: Package ImageMagick not found in current path:\n- Run `import Pkg; Pkg.add(\"ImageMagick\")` to install the ImageMagick package.\n",
     "output_type": "error",
     "traceback": [
      "ArgumentError: Package ImageMagick not found in current path:\n- Run `import Pkg; Pkg.add(\"ImageMagick\")` to install the ImageMagick package.\n",
      "",
      "Stacktrace:",
      " [1] handle_error(::ArgumentError, ::FileIO.File{FileIO.DataFormat{:PNG}}) at C:\\Users\\Albert Huang\\.julia\\packages\\FileIO\\BcdlR\\src\\error_handling.jl:82",
      " [2] handle_exceptions(::Array{Any,1}, ::String) at C:\\Users\\Albert Huang\\.julia\\packages\\FileIO\\BcdlR\\src\\error_handling.jl:77",
      " [3] #load#27(::Base.Iterators.Pairs{Union{},Union{},Tuple{},NamedTuple{(),Tuple{}}}, ::typeof(load), ::FileIO.Formatted) at C:\\Users\\Albert Huang\\.julia\\packages\\FileIO\\BcdlR\\src\\loadsave.jl:189",
      " [4] load at C:\\Users\\Albert Huang\\.julia\\packages\\FileIO\\BcdlR\\src\\loadsave.jl:169 [inlined]",
      " [5] #load#13 at C:\\Users\\Albert Huang\\.julia\\packages\\FileIO\\BcdlR\\src\\loadsave.jl:118 [inlined]",
      " [6] load at C:\\Users\\Albert Huang\\.julia\\packages\\FileIO\\BcdlR\\src\\loadsave.jl:118 [inlined]",
      " [7] |>(::String, ::typeof(load)) at .\\operators.jl:854",
      " [8] top-level scope at In[19]:1"
     ]
    }
   ],
   "source": [
    "blurry_img = download(\"https://github.com/dbindel/cs4220-s20/raw/master/hw/code/proj1/data/blurry.png\") |> load"
   ]
  }
 ],
 "metadata": {
  "kernelspec": {
   "display_name": "Julia 1.3.1",
   "language": "julia",
   "name": "julia-1.3"
  },
  "language_info": {
   "file_extension": ".jl",
   "mimetype": "application/julia",
   "name": "julia",
   "version": "1.3.1"
  }
 },
 "nbformat": 4,
 "nbformat_minor": 2
}
