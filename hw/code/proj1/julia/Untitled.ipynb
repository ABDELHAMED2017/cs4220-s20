{
 "cells": [
  {
   "cell_type": "markdown",
   "metadata": {},
   "source": [
    "# Project 1: Where are My Glasses?\n",
    "## Due: 2020-03-06\n",
    "\n",
    "![blurred image](https:/github.com/dbindel/cs4220-s20/raw/master/hw/code/proj1/data/blurry.png)"
   ]
  },
  {
   "cell_type": "markdown",
   "metadata": {},
   "source": [
    "The image above is a blurred version of a picture that\n",
    "I took at the local SPCA.  As we will see, a naive approach to\n",
    "de-blurring produces garbage, a characteristic feature of *ill-posed*\n",
    "problems.  In order to reconstruct the image, we need to *regularize*\n",
    "the reconstruction, just as we would regularize an ill-posed least squares\n",
    "problem.  We will use Tikhonov regularization, as described in class.\n",
    "However, this involves choosing the value of a\n",
    "regularization parameter.  Your mission is to investigate the dependence\n",
    "on the parameter, and to investigate three approaches to\n",
    "choosing this parameter (mostly) automatically.\n",
    "\n",
    "You are given the file `blurry.png` (the blurred image shown above).\n",
    "You are responsible for the following deliverables, which can either\n",
    "by submitted as a Jupyter notebook (recommended) or in standalone code:\n",
    "\n",
    "- Codes to compute \"optimal\" values of the regularization\n",
    "  parameter $\\lambda$ via the discrepancy principle, the L-curve,\n",
    "  and generalized cross-validation.\n",
    "- A report that addresses the questions posed in the rest of this\n",
    "  prompt.\n",
    "\n",
    "This project is inspired by the project on image deblurring by James\n",
    "G. Nagy and Dianne P. O'Leary \n",
    "([Image Deblurring: I Can See Clearly Now](http://ieeexplore.ieee.org/document/1196312/))\n",
    "in _Computing in Science and Engineering_; Project: Vol. 5,\n",
    "No. 3, May/June 2003, pp. 82-85; Solution: Vol. 5, No. 4, July/August\n",
    "2003).  Other useful references include:\n",
    "\n",
    "- Hansen, Nagy, O'Leary.  [*Deblurring Images: Matrices, Spectra, and Filtering*](http://epubs.siam.org/doi/book/10.1137/1.9780898718874), SIAM 2006.\n",
    "- Hansen and O'Leary.  [\"The Use of the L-Curve in the Regularization of Discrete Ill-Posed Problems\"](http://epubs.siam.org/doi/abs/10.1137/0914086) in *SIAM J. Sci. Comput.*, Vol 14, No. 6, November 1993.\n",
    "- Golub, Heath, and Wahba. [\"Generalized Cross-Validation as a Method for Choosing a Good Ridge Parameter\"](http://www.stat.wisc.edu/~wahba/ftp1/oldie/golub.heath.wahba.pdf) in *Technometrics*, Vol. 21, No. 2, May 1979.\n",
    "- Golub and von Matt. [\"Generalized Cross-Validation for Large-Scale Problems\"](https://www.jstor.org/stable/pdf/1390722.pdf) in *Journal of Computational and Graphical Statistics*, Vol. 6, No. 1, March 1997.\n",
    "-  Morozov.  [*Methods for Solving Incorrectly Posed Problems*](https://link.springer.com/book/10.1007%2F978-1-4612-5280-1), Springer-Verlag, 1984.\n",
    "\n",
    "It should be possible to do this assignment based only on ideas\n",
    "presented in this prompt and in the lectures.  However,\n",
    "you are always welcome to use any ideas or code you find in the\n",
    "literature, including in the references noted above, provided you\n",
    "give an appropriate citation."
   ]
  }
 ],
 "metadata": {
  "kernelspec": {
   "display_name": "Python 3",
   "language": "python",
   "name": "python3"
  },
  "language_info": {
   "codemirror_mode": {
    "name": "ipython",
    "version": 3
   },
   "file_extension": ".py",
   "mimetype": "text/x-python",
   "name": "python",
   "nbconvert_exporter": "python",
   "pygments_lexer": "ipython3",
   "version": "3.6.1"
  }
 },
 "nbformat": 4,
 "nbformat_minor": 2
}
