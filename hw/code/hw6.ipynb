{
 "cells": [
  {
   "cell_type": "markdown",
   "metadata": {},
   "source": [
    "# HW 6 (due 2020-04-24)"
   ]
  },
  {
   "cell_type": "code",
   "execution_count": null,
   "metadata": {},
   "outputs": [],
   "source": [
    "using LinearAlgebra\n",
    "using Plots"
   ]
  },
  {
   "cell_type": "markdown",
   "metadata": {},
   "source": [
    "## 1: Estimating error\n",
    "\n",
    "Suppose $G : \\mathbb{R}^n \\rightarrow \\mathbb{R}^n$ is a contraction mapping with Lipschitz constant $\\alpha < 1$.\n",
    "Show that the error $e_k = x_k-x_*$ satisfies\n",
    "$$\n",
    "  \\|e_k\\| \\leq \\frac{\\|x_{k+1}-x_k\\|}{1-\\alpha}.\n",
    "$$"
   ]
  },
  {
   "cell_type": "markdown",
   "metadata": {},
   "source": [
    "#### Answer\n",
    "\n",
    "By contractivity, $\\|e_{k+1}\\| \\leq \\alpha \\|e_k\\|$, so\n",
    "$$\n",
    "  (1-\\alpha) \\|e_k\\| = \\|e_k\\| - \\alpha \\|e_k\\| \\leq \\|e_k\\| - \\|e_{k+1}\\|.\n",
    "$$\n",
    "Now note that $\\|e_k\\|-\\|e_{k+1}\\| \\leq \\|e_k-e_{k+1}\\|$ by the triangle inequality, and\n",
    "$$\n",
    "  \\|e_k-e_{k+1}\\| = \\|(x_k-x_*)-(x_{k+1}-x_*)\\| = \\|x_k-x_{k+1}\\|.\n",
    "$$\n",
    "Putting it all together,\n",
    "$$\n",
    "  (1-\\alpha) \\|e_k\\| \\leq \\|x_k-x_{k+1}\\|,\n",
    "$$\n",
    "and dividing through by $1-\\alpha$ gets the desired result."
   ]
  },
  {
   "cell_type": "markdown",
   "metadata": {},
   "source": [
    "## 2: Nonlinear splitting\n",
    "\n",
    "Suppose that we wish to solve $F(x_*) = G(x_*) + H(x_*) = 0$ with $G$ and $H$ both $C^1$.\n",
    "If it is simple to solve equations of the form $G(x) = y$ for $x$ with\n",
    "some black box solver, then we might consider the iteration\n",
    "$$\n",
    "  G(x_{k+1}) + H(x_k) = 0.\n",
    "$$\n",
    "Argue that this iteration converges for starting points near $x_*$ if $\\|G'(x_*))^{-1} H'(x_*)\\| < 1$.\n",
    "Illustrate the iteration for the splitting\n",
    "$$\n",
    "  G(x,y) = \\begin{bmatrix} x^2 + y^2 - 1 \\\\ 4y \\end{bmatrix}, \\quad\n",
    "  H(x,y) = \\begin{bmatrix} 0 \\\\ -x \\end{bmatrix}\n",
    "$$\n",
    "starting from the initial guess $(1,0)$.\n",
    "\n",
    "*Notes*:\n",
    "\n",
    "1.  A reasonable way of thinking about this is to write the error iteration\n",
    "    $G'(x_*) e_{k+1} + H'(x_*) e_k \\approx 0$.  Of course, you may be comfortable with\n",
    "    the \"approximately\" in this first order analysis.\n",
    "2.  Recall the *inverse function theorem*: if $V : \\mathbb{R}^n \\rightarrow \\mathbb{R}^n$\n",
    "    is $C^1$ at some point $x \\in \\mathbb{R}^n$ with $y = V(x)$ and the Jacobian $V'(x)$ is invertible,\n",
    "    then there is an inverse function $W$ defined on some open neighborhood of $y$ such that\n",
    "    $W(y) = x$ and $W'(y) = V(x)^{-1}$.  You may use this if you are uncomfortable with the above!\n",
    "3.  The statement is also true under the weaker hypothesis $\\rho(G'(x_*)^{-1} H'(x_*)) < 1$."
   ]
  },
  {
   "cell_type": "markdown",
   "metadata": {},
   "source": [
    "#### Answer\n",
    "\n",
    "The iteration of interest is\n",
    "$$\n",
    "  x_{k+1} = G^{-1}(-H(x_k)) = U(x_k)\n",
    "$$\n",
    "We have at the fixed point $x_*$ that\n",
    "$$\n",
    "  e_{k+1} = U'(x_*) e_k + o(\\|e_k\\|) \\approx U'(x_*) e_k,\n",
    "$$\n",
    "where by the inverse function theorem $U'(x_*) = -G'(x_*)^{-1} H'(x_*)$.\n",
    "This gives the error iteration\n",
    "$$\n",
    "  \\|e_{k+1}\\| \\leq \\|U'(x_*)\\| \\|e_k\\| + o(\\|e_k\\|).\n",
    "$$\n",
    "Hence the error decays for sufficiently good initial guesses.  In fact, the asympotic rate\n",
    "of convergence is associated with the spectral radius of $U'(x_*)$.\n",
    "\n",
    "We illustrate with the given example:"
   ]
  },
  {
   "cell_type": "code",
   "execution_count": null,
   "metadata": {},
   "outputs": [],
   "source": [
    "# Compute the true solution\n",
    "θ = atan(0.25)\n",
    "xy_true = [cos(θ); sin(θ)]\n",
    "\n",
    "# Run 20 iterations and record the residual\n",
    "xy = [1.0; 0.0]\n",
    "err_hist = []\n",
    "for k = 1:20\n",
    "    xy[2] = xy[1]/4\n",
    "    xy[1] = sqrt(1-xy[2]^2)\n",
    "    push!(err_hist, norm(xy-xy_true))\n",
    "end\n",
    "\n",
    "# Get the requested spectral radius\n",
    "dG = [ 2*xy[1]  2*xy[2] ;\n",
    "           0.0  -4      ]\n",
    "dH = [ 0.0  0.0 ;\n",
    "       1.0  0.0 ]\n",
    "ρ = maximum(abs.(eigvals(dG\\dH)))\n",
    "\n",
    "plot(err_hist[err_hist .!= 0], yscale=:log10, label=\"Error\")\n",
    "plot!(err_hist[1] * ρ .^ (0:19), yscale=:log10, label=\"Error model\")"
   ]
  },
  {
   "cell_type": "markdown",
   "metadata": {},
   "source": [
    "## 3: Iterative Refinement\n",
    "\n",
    "Please give me feedback on anything that might make the last few weeks of the semester work as well as possible.\n",
    "Is this notebook-based instruction effective in getting you to think about numerical methods?  What have you\n",
    "found most challenging?"
   ]
  },
  {
   "cell_type": "markdown",
   "metadata": {},
   "source": []
  }
 ],
 "metadata": {
  "kernelspec": {
   "display_name": "Julia 1.3.1",
   "language": "julia",
   "name": "julia-1.3"
  },
  "language_info": {
   "file_extension": ".jl",
   "mimetype": "application/julia",
   "name": "julia"
  }
 },
 "nbformat": 4,
 "nbformat_minor": 2
}
